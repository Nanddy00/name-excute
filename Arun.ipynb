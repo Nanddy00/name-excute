{
 "cells": [
  {
   "cell_type": "code",
   "execution_count": 46,
   "id": "2c0de681",
   "metadata": {},
   "outputs": [],
   "source": [
    "import cv2\n",
    "import pytesseract\n",
    "import pandas as pd\n",
    "from openpyxl import Workbook"
   ]
  },
  {
   "cell_type": "code",
   "execution_count": 54,
   "id": "dab5ba0d",
   "metadata": {},
   "outputs": [],
   "source": [
    "image_path = 'C:\\\\Users\\\\Lenovo\\\\Downloads\\\\healthpdf_page-0001.jpg'\n",
    "img = cv2.imread(image_path)"
   ]
  },
  {
   "cell_type": "code",
   "execution_count": 55,
   "id": "5a8eb6ab",
   "metadata": {},
   "outputs": [],
   "source": [
    "gray = cv2.cvtColor(img, cv2.COLOR_BGR2GRAY)"
   ]
  },
  {
   "cell_type": "code",
   "execution_count": 56,
   "id": "aee89307",
   "metadata": {},
   "outputs": [],
   "source": [
    "pytesseract.pytesseract.tesseract_cmd = r\"C:\\\\Program Files\\\\Tesseract-OCR\\\\tesseract.exe\"\n"
   ]
  },
  {
   "cell_type": "code",
   "execution_count": 57,
   "id": "cc5b0d11",
   "metadata": {},
   "outputs": [],
   "source": [
    "custom_config = r'--oem 3 --psm 6'\n",
    "text = pytesseract.image_to_string(gray, config=custom_config)"
   ]
  },
  {
   "cell_type": "code",
   "execution_count": 58,
   "id": "af01bca5",
   "metadata": {},
   "outputs": [],
   "source": [
    "import re\n",
    "name_pattern = re.compile(r'Name: (.+?)\\n')\n",
    "name_match = name_pattern.search(text)\n",
    "name = name_match.group(1) if name_match else None"
   ]
  },
  {
   "cell_type": "code",
   "execution_count": 60,
   "id": "14f67d71",
   "metadata": {},
   "outputs": [],
   "source": [
    "wb = Workbook()\n",
    "ws = wb.active\n",
    "ws.append(['Name',''])\n",
    "ws.append([name, ''])\n",
    "wb.save('extracted_data13.xlsx')"
   ]
  },
  {
   "cell_type": "code",
   "execution_count": null,
   "id": "86b8fe96",
   "metadata": {},
   "outputs": [],
   "source": []
  },
  {
   "cell_type": "code",
   "execution_count": null,
   "id": "76cd3050",
   "metadata": {},
   "outputs": [],
   "source": []
  }
 ],
 "metadata": {
  "kernelspec": {
   "display_name": "Python 3 (ipykernel)",
   "language": "python",
   "name": "python3"
  },
  "language_info": {
   "codemirror_mode": {
    "name": "ipython",
    "version": 3
   },
   "file_extension": ".py",
   "mimetype": "text/x-python",
   "name": "python",
   "nbconvert_exporter": "python",
   "pygments_lexer": "ipython3",
   "version": "3.11.5"
  }
 },
 "nbformat": 4,
 "nbformat_minor": 5
}
